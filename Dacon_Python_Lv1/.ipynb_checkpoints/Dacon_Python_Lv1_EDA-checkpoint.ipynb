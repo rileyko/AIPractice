{
 "cells": [
  {
   "cell_type": "code",
   "execution_count": 1,
   "metadata": {},
   "outputs": [
    {
     "name": "stdout",
     "output_type": "stream",
     "text": [
      "아니 시부렝\n",
      "안희"
     ]
    }
   ],
   "source": [
    "# Lv1 EDA python\n",
    "# 라이브러리 불러오기(import)\n",
    "    # import [라이브러리] as [사용할 이름]\n",
    "    # ex: import pandas as pd\n",
    "# 파이썬 파일 불러오기(read_csv)\n",
    "    # import pandas as pd\n",
    "    # data = pd.read_csv('파일경로/파일이름.csv')\n",
    "# 파이썬 행 열 갯수 관찰하기(shape)\n",
    "    # [DataFrame 변수명].shape\n",
    "# 파이썬 데이터 확인하기(head(), tail())\n",
    "# import pandas as pd\n",
    "# train = pd.read_csv('data/train.csv')\n",
    "# train.head() # train 데이터 상단 5개 행 출력\n",
    "# train.tail() # train 데이터 하단 5개 행 출력\n",
    "\n"
   ]
  },
  {
   "cell_type": "code",
   "execution_count": 2,
   "metadata": {},
   "outputs": [],
   "source": [
    "\n"
   ]
  }
 ],
 "metadata": {
  "interpreter": {
   "hash": "fc836340034460e9c5583b996b053fe1fe7ffeb52054821d3ff9d502e04de020"
  },
  "kernelspec": {
   "display_name": "Python 3 (ipykernel)",
   "language": "python",
   "name": "python3"
  },
  "language_info": {
   "codemirror_mode": {
    "name": "ipython",
    "version": 3
   },
   "file_extension": ".py",
   "mimetype": "text/x-python",
   "name": "python",
   "nbconvert_exporter": "python",
   "pygments_lexer": "ipython3",
   "version": "3.9.7"
  }
 },
 "nbformat": 4,
 "nbformat_minor": 2
}
