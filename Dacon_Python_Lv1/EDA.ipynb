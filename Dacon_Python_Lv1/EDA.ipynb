{
 "cells": [
  {
   "cell_type": "markdown",
   "metadata": {},
   "source": [
    "# Lv1 EDA python"
   ]
  },
  {
   "cell_type": "markdown",
   "metadata": {},
   "source": [
    "## 라이브러리 & 패키지 & 모듈\n",
    "- 라이브러리는 표준 라이브러리와 외부 라이브러리로 구분\n",
    "    - 표준 라이브러리 : 파이썬에서 기본으로 제공하는 라이브러리이며 파이썬 설치 시 기본으로 제공함\n",
    "    - 외부 라이브러리 : 개발자가 필요에 의해 개발한 패키지와 모듈의 집합\n",
    "    - 라이브러리 불러오기(import) : `import [라이브러리] as [사용할 이름]`\n",
    "- 패키지 : 특정 기능과 관련된 여러 모듈을 하나의 상위 폴더에 넣어놓은 것\n",
    "    - 외부 패키지 : 외부 라이브러리에 있는 패키지\n",
    "- 모듈 : 특정 기능들(함수, 변수, 클래스 등)이 구현되어 있는 파이썬 파일(.py)\n",
    "    - 모듈 불러오기(import) : 해당 라이브러리로부터 원하는 모듈 불러오기\n",
    "    - `from [라이브러리] import [모듈]`\n",
    "    - `변수1 = 모듈명()`"
   ]
  },
  {
   "cell_type": "code",
   "execution_count": 4,
   "metadata": {},
   "outputs": [],
   "source": [
    "import pandas as pd"
   ]
  },
  {
   "cell_type": "markdown",
   "metadata": {},
   "source": [
    "## 파이썬 파일 불러오기(read_csv)\n",
    "- csv 파일을 읽어, DataFrame 형태로 가져옴\n",
    "- **DataFrame**: Series(1차원 데이터)들을 하나의 열로 취급한 집합으로, 가로축과 세로축이 있는 2차원 데이터\n",
    "- 파이썬 파일 불러오기\n",
    "    - `import pandas as pd`\n",
    "    - `data = pd.read_csv('파일경로/파일이름.csv')`"
   ]
  },
  {
   "cell_type": "markdown",
   "metadata": {},
   "source": [
    "## 파이썬 행 열 갯수 관찰하기(shape)\n",
    "- `[DataFrame 변수명].shape`"
   ]
  },
  {
   "cell_type": "markdown",
   "metadata": {},
   "source": [
    "## 파이썬 데이터 확인하기(head(), tail())\n",
    "- `import pandas as pd` # pandas 라이브러리 임포트\n",
    "- `train = pd.read_csv('data/train.csv')` # csv 파일을 데이터프레임으로 읽어오기\n",
    "- `train.head()` # train 데이터 상단 5개 행 출력\n",
    "- `train.tail()` # train 데이터 하단 5개 행 출력"
   ]
  },
  {
   "cell_type": "markdown",
   "metadata": {},
   "source": [
    "# 파이썬 결측치 확인하기(is_null())\n",
    "- 결측치(Missing Value) : 데이터에 값이 없는 것, NA, Null, NaN(pandas 표기법, Not a Number)\n",
    "- isnull() : DataFrame에서 Nan 값을 확인하는 메서드로, NaN값일 때 True, 아니면 False로 값을 리턴함\n",
    "- isnull().sum() # 데이터 프레임 각 열별 결측치의 수를 확인할 수 있음 (결측치 수의 합)"
   ]
  },
  {
   "cell_type": "code",
   "execution_count": 5,
   "metadata": {},
   "outputs": [
    {
     "data": {
      "text/html": [
       "<div>\n",
       "<style scoped>\n",
       "    .dataframe tbody tr th:only-of-type {\n",
       "        vertical-align: middle;\n",
       "    }\n",
       "\n",
       "    .dataframe tbody tr th {\n",
       "        vertical-align: top;\n",
       "    }\n",
       "\n",
       "    .dataframe thead th {\n",
       "        text-align: right;\n",
       "    }\n",
       "</style>\n",
       "<table border=\"1\" class=\"dataframe\">\n",
       "  <thead>\n",
       "    <tr style=\"text-align: right;\">\n",
       "      <th></th>\n",
       "      <th>name</th>\n",
       "      <th>age</th>\n",
       "      <th>class</th>\n",
       "    </tr>\n",
       "  </thead>\n",
       "  <tbody>\n",
       "    <tr>\n",
       "      <th>0</th>\n",
       "      <td>False</td>\n",
       "      <td>False</td>\n",
       "      <td>True</td>\n",
       "    </tr>\n",
       "    <tr>\n",
       "      <th>1</th>\n",
       "      <td>False</td>\n",
       "      <td>True</td>\n",
       "      <td>True</td>\n",
       "    </tr>\n",
       "    <tr>\n",
       "      <th>2</th>\n",
       "      <td>False</td>\n",
       "      <td>False</td>\n",
       "      <td>False</td>\n",
       "    </tr>\n",
       "  </tbody>\n",
       "</table>\n",
       "</div>"
      ],
      "text/plain": [
       "    name    age  class\n",
       "0  False  False   True\n",
       "1  False   True   True\n",
       "2  False  False  False"
      ]
     },
     "execution_count": 5,
     "metadata": {},
     "output_type": "execute_result"
    }
   ],
   "source": [
    "import pandas as pd\n",
    "import numpy as np\n",
    "df = pd.DataFrame({\n",
    "    'name': ['choi','ko','kim'],\n",
    "    'age':[20, np.nan, 31],\n",
    "    'class':[np.nan, np.nan, 1]\n",
    "}) # DataFrame({'컬럼명' : [행 값]}) : DataFrame 생성 함수\n",
    "df.isnull() #DataFrame으로 NaN값 여부를 True, False 형태로서 반환"
   ]
  },
  {
   "cell_type": "code",
   "execution_count": 6,
   "metadata": {},
   "outputs": [
    {
     "data": {
      "text/plain": [
       "name     0\n",
       "age      1\n",
       "class    2\n",
       "dtype: int64"
      ]
     },
     "execution_count": 6,
     "metadata": {},
     "output_type": "execute_result"
    }
   ],
   "source": [
    "df.isnull().sum() # 데이터 프레임 각 열별 결측치의 수를 확인할 수 있음 (결측치 수의 합)"
   ]
  }
 ],
 "metadata": {
  "interpreter": {
   "hash": "fc836340034460e9c5583b996b053fe1fe7ffeb52054821d3ff9d502e04de020"
  },
  "kernelspec": {
   "display_name": "Python 3 (ipykernel)",
   "language": "python",
   "name": "python3"
  },
  "language_info": {
   "codemirror_mode": {
    "name": "ipython",
    "version": 3
   },
   "file_extension": ".py",
   "mimetype": "text/x-python",
   "name": "python",
   "nbconvert_exporter": "python",
   "pygments_lexer": "ipython3",
   "version": "3.7.11"
  }
 },
 "nbformat": 4,
 "nbformat_minor": 2
}
