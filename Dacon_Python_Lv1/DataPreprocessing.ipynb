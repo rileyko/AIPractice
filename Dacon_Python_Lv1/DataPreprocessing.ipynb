{
 "cells": [
  {
   "cell_type": "markdown",
   "metadata": {},
   "source": [
    "# 파이썬 데이터프레임 생성(pd.DataFrame) 및 데이터 기본 정보(데이터프레임.info()) 확인하기\n",
    "- 데이터 프레임 : 2차원 데이터를 표현하기 위한 자료구조로, 행과 열로 구성된 데이터로서 딕셔너리로 생성\n",
    "- info() : DataFrame에 info() 메서드를 사용하면, 피처들의 기본 정보를 확인할 수 있음\n",
    "- 인덱스 범위(RangeIndex), null 값 개수(Non-Null Count), 데이터 타입(Dtype), 메모리 사용량(memory usage)"
   ]
  },
  {
   "cell_type": "code",
   "execution_count": 1,
   "metadata": {},
   "outputs": [],
   "source": [
    "# 파이썬 데이터 기본 정보 확인하기(info())\n",
    "import pandas as pd\n",
    "import numpy as np\n",
    "df = pd.DataFrame({\n",
    "    'name': ['choi','ko','kim'],\n",
    "    'age':[20, np.nan, 31],\n",
    "    'class':[np.nan, np.nan, 1]\n",
    "}) \n"
   ]
  },
  {
   "cell_type": "code",
   "execution_count": 2,
   "metadata": {},
   "outputs": [
    {
     "name": "stdout",
     "output_type": "stream",
     "text": [
      "<class 'pandas.core.frame.DataFrame'>\n",
      "RangeIndex: 3 entries, 0 to 2\n",
      "Data columns (total 3 columns):\n",
      " #   Column  Non-Null Count  Dtype  \n",
      "---  ------  --------------  -----  \n",
      " 0   name    3 non-null      object \n",
      " 1   age     2 non-null      float64\n",
      " 2   class   1 non-null      float64\n",
      "dtypes: float64(2), object(1)\n",
      "memory usage: 200.0+ bytes\n"
     ]
    }
   ],
   "source": [
    "df.info()"
   ]
  },
  {
   "cell_type": "markdown",
   "metadata": {},
   "source": [
    "# 파이썬 결측치 삭제, 0으로 대체, 특정 값으로 대체\n",
    "- 결측치: 말 그대로 비어있는 값, 즉 누락된 값을 의미하고, None 또는 NaN 값으로 표기됨\n",
    "- 결측치 보유 행 삭제 : `데이터프레임.dropna()`  #결측치를 보유하고 있는 행을 DataFrame 오브젝트에서 삭제함\n",
    "- 특정값으로 결측치 대체 : `데이터프레임.fillna(특정값)`\n",
    "- 앞, 뒤 값으로 결측치 대체 : `데이터프레임.fillna(method='특정메소드')` : 결측값을 앞 방향(fillna(method='ffill')) 또는 뒷 방향으로 채우기(fillna(method='bfill'))\n",
    "- 평균값으로 대체 : `데이터프레임.fillna({'칼럼명':int(데이터프레임['칼럼명'].mean)}, inplace=True)`\n",
    "- 시계열 데이터의 값에 선형으로 비례하는 방식으로 결측값 대체 : `데이터프레임.interpolate(inplace = True)` #이전 행(직전시간)과 다음 행(직후시간)의 평균으로 대체\n"
   ]
  },
  {
   "cell_type": "code",
   "execution_count": 3,
   "metadata": {},
   "outputs": [
    {
     "data": {
      "text/html": [
       "<div>\n",
       "<style scoped>\n",
       "    .dataframe tbody tr th:only-of-type {\n",
       "        vertical-align: middle;\n",
       "    }\n",
       "\n",
       "    .dataframe tbody tr th {\n",
       "        vertical-align: top;\n",
       "    }\n",
       "\n",
       "    .dataframe thead th {\n",
       "        text-align: right;\n",
       "    }\n",
       "</style>\n",
       "<table border=\"1\" class=\"dataframe\">\n",
       "  <thead>\n",
       "    <tr style=\"text-align: right;\">\n",
       "      <th></th>\n",
       "      <th>name</th>\n",
       "      <th>age</th>\n",
       "      <th>class</th>\n",
       "    </tr>\n",
       "  </thead>\n",
       "  <tbody>\n",
       "    <tr>\n",
       "      <th>0</th>\n",
       "      <td>choi</td>\n",
       "      <td>20.0</td>\n",
       "      <td>0.0</td>\n",
       "    </tr>\n",
       "    <tr>\n",
       "      <th>1</th>\n",
       "      <td>ko</td>\n",
       "      <td>0.0</td>\n",
       "      <td>0.0</td>\n",
       "    </tr>\n",
       "    <tr>\n",
       "      <th>2</th>\n",
       "      <td>kim</td>\n",
       "      <td>31.0</td>\n",
       "      <td>1.0</td>\n",
       "    </tr>\n",
       "  </tbody>\n",
       "</table>\n",
       "</div>"
      ],
      "text/plain": [
       "   name   age  class\n",
       "0  choi  20.0    0.0\n",
       "1    ko   0.0    0.0\n",
       "2   kim  31.0    1.0"
      ]
     },
     "execution_count": 3,
     "metadata": {},
     "output_type": "execute_result"
    }
   ],
   "source": [
    "df.dropna()\n",
    "df.fillna(0) # 0이라는 값으로 대체하기"
   ]
  }
 ],
 "metadata": {
  "interpreter": {
   "hash": "fc836340034460e9c5583b996b053fe1fe7ffeb52054821d3ff9d502e04de020"
  },
  "kernelspec": {
   "display_name": "Python 3.7.11 ('woodeem')",
   "language": "python",
   "name": "python3"
  },
  "language_info": {
   "codemirror_mode": {
    "name": "ipython",
    "version": 3
   },
   "file_extension": ".py",
   "mimetype": "text/x-python",
   "name": "python",
   "nbconvert_exporter": "python",
   "pygments_lexer": "ipython3",
   "version": "3.7.11"
  },
  "orig_nbformat": 4
 },
 "nbformat": 4,
 "nbformat_minor": 2
}
