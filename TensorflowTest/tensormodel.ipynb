{
 "cells": [
  {
   "cell_type": "code",
   "execution_count": 1,
   "metadata": {},
   "outputs": [],
   "source": [
    "import pandas as pd\n",
    "from sklearn.preprocessing import MinMaxScaler\n",
    "from sklearn.preprocessing import LabelBinarizer\n",
    "from sklearn.model_selection import train_test_split\n",
    "import tensorflow as tf\n",
    "tf.random.set_seed(200) #하이퍼파라미터 튜닝을 위해 실행시 마다 변수가 같은 초기값 가지게 하기\n",
    "import numpy as np"
   ]
  },
  {
   "cell_type": "code",
   "execution_count": 2,
   "metadata": {},
   "outputs": [
    {
     "name": "stdout",
     "output_type": "stream",
     "text": [
      "   CustomerID  Gender  Married  Age  Graduated  Profession  WorkExperience  \\\n",
      "0      458989  Female      1.0   36        1.0    Engineer             0.0   \n",
      "1      458994    Male      1.0   37        1.0  Healthcare             8.0   \n",
      "2      458996  Female      1.0   69        0.0    Engineer             0.0   \n",
      "3      459000    Male      1.0   59        0.0   Executive            11.0   \n",
      "4      459001  Female      0.0   19        0.0   Marketing             1.0   \n",
      "\n",
      "  SpendingScore  FamilySize VehicleModel VehicleType  \n",
      "0           Low         1.0       Casper     Compact  \n",
      "1       Average         4.0      Santape     Midsize  \n",
      "2           Low         1.0      Santape     Midsize  \n",
      "3          High         2.0     Grandeur       Large  \n",
      "4           Low         4.0       Casper     Compact  \n",
      "['Compact' 'Midsize' 'Large' 'Small']\n"
     ]
    }
   ],
   "source": [
    "df = pd.read_csv('CarSales.csv')\n",
    "print(df.head())\n",
    "print(df[\"VehicleType\"].unique())"
   ]
  },
  {
   "cell_type": "code",
   "execution_count": 3,
   "metadata": {},
   "outputs": [],
   "source": [
    "df[\"Gender\"] = df[\"Gender\"].map({'Female': 0, 'Male': 1})\n",
    "df[\"Profession\"] = df[\"Profession\"].map({'Engineer' : 0, 'Healthcare' : 1, 'Executive' : 2, 'Marketing' : 3, 'Doctor' : 4, 'Artist' : 5, 'Lawyer' :6, 'Entertainment' :7, 'Homemaker': 8})\n",
    "df[\"SpendingScore\"] = df[\"SpendingScore\"].map({'Low' : 0, 'Average' : 1 , 'High' : 2})\n",
    "df[\"VehicleModel\"].unique()\n",
    "df[\"VehicleModel\"] = df[\"VehicleModel\"].map({'Casper':0, 'Santape' :1, 'Grandeur':2, 'Palisade':3,'i10':4, 'Tucson':5, 'Sonata':6, 'Kona' :7, 'Venue' :8 })"
   ]
  },
  {
   "cell_type": "code",
   "execution_count": 4,
   "metadata": {},
   "outputs": [],
   "source": [
    "df[\"WorkExperience\"].fillna(int(df[\"WorkExperience\"].mean()), inplace=True)\n",
    "df[\"FamilySize\"].fillna(int(df[\"FamilySize\"].mean()), inplace=True)\n",
    "df = df.dropna()"
   ]
  },
  {
   "cell_type": "code",
   "execution_count": 5,
   "metadata": {},
   "outputs": [],
   "source": [
    "##########데이터 전처리\n",
    "x_data = df.drop(['CustomerID', 'VehicleType'], axis=1)\n",
    "y_data = df[['VehicleType']]"
   ]
  },
  {
   "cell_type": "code",
   "execution_count": 6,
   "metadata": {},
   "outputs": [
    {
     "name": "stdout",
     "output_type": "stream",
     "text": [
      "Gender            0\n",
      "Married           0\n",
      "Age               0\n",
      "Graduated         0\n",
      "Profession        0\n",
      "WorkExperience    0\n",
      "SpendingScore     0\n",
      "FamilySize        0\n",
      "VehicleModel      0\n",
      "dtype: int64\n",
      "(2528, 9)\n",
      "(2528, 1)\n"
     ]
    }
   ],
   "source": [
    "# print(x_data.columns) \n",
    "# print(y_data.columns)\n",
    "\n",
    "print(x_data.isnull().sum())\n",
    "print(x_data.shape)\n",
    "print(y_data.shape)\n",
    "\n",
    "# transformer = MinMaxScaler()\n",
    "# transformer.fit(x_data)\n",
    "# x_data = transformer.transform(x_data)"
   ]
  },
  {
   "cell_type": "code",
   "execution_count": 7,
   "metadata": {},
   "outputs": [],
   "source": [
    "transformer = MinMaxScaler()\n",
    "transformer.fit(x_data)\n",
    "x_data = transformer.transform(x_data)"
   ]
  },
  {
   "cell_type": "code",
   "execution_count": 8,
   "metadata": {},
   "outputs": [
    {
     "name": "stdout",
     "output_type": "stream",
     "text": [
      "['Compact' 'Large' 'Midsize' 'Small']\n"
     ]
    }
   ],
   "source": [
    "lb = LabelBinarizer()\n",
    "lb.fit(y_data)\n",
    "print(lb.classes_) #['Iris-setosa' 'Iris-versicolor' 'Iris-virginica']\n",
    "#labels = lb.classes_\n",
    "labels = ['Compact' 'Midsize' 'Large' 'Small']\n",
    "y_data = lb.transform(y_data)"
   ]
  },
  {
   "cell_type": "code",
   "execution_count": 9,
   "metadata": {},
   "outputs": [
    {
     "name": "stdout",
     "output_type": "stream",
     "text": [
      "(2528, 9)\n",
      "(2528, 4)\n"
     ]
    }
   ],
   "source": [
    "print(x_data.shape) #(150, 4)\n",
    "print(y_data.shape) #(150, 3)\n",
    "\n",
    "x_train, x_test, y_train, y_test = train_test_split(x_data, y_data, test_size=0.3, random_state=200, stratify=y_data)"
   ]
  },
  {
   "cell_type": "markdown",
   "metadata": {},
   "source": [
    "* Error 발생의 경우\n",
    "- Found input variables with inconsistent numbers of samples \n",
    "- train test 데이터 분리 시 행 개수가 안맞아서 발생하는 오류"
   ]
  },
  {
   "cell_type": "code",
   "execution_count": 10,
   "metadata": {},
   "outputs": [
    {
     "name": "stderr",
     "output_type": "stream",
     "text": [
      "2022-03-17 19:54:54.481097: I tensorflow/core/platform/cpu_feature_guard.cc:145] This TensorFlow binary is optimized with Intel(R) MKL-DNN to use the following CPU instructions in performance critical operations:  SSE4.1 SSE4.2 AVX AVX2 FMA\n",
      "To enable them in non-MKL-DNN operations, rebuild TensorFlow with the appropriate compiler flags.\n",
      "2022-03-17 19:54:54.481447: I tensorflow/core/common_runtime/process_util.cc:115] Creating new thread pool with default inter op setting: 8. Tune using inter_op_parallelism_threads for best performance.\n"
     ]
    }
   ],
   "source": [
    "##########모델 생성\n",
    "\n",
    "input = tf.keras.layers.Input(shape=[9])\n",
    "net = tf.keras.layers.Dense(units=32, activation='relu')(input)\n",
    "net = tf.keras.layers.Dense(units=32, activation='relu')(net)\n",
    "net = tf.keras.layers.Dense(units=3, activation='softmax')(net)\n",
    "model1 = tf.keras.models.Model(input, net)\n",
    "\n",
    "# input = tf.keras.layers.Input(shape=(9,))\n",
    "# net = tf.keras.layers.Dense(units=32, activation='relu')(input)\n",
    "# net = tf.keras.layers.Dense(units=32, activation='relu')(net)\n",
    "# net = tf.keras.layers.Dense(units=3, activation='softmax')(net)\n",
    "# model2 = tf.keras.models.Model(input, net)\n",
    "\n",
    "# input = tf.keras.layers.Input(shape=(9,))\n",
    "# net = tf.keras.layers.Dense(units=32, activation='relu')(input)\n",
    "# net = tf.keras.layers.Dense(units=32, activation='relu')(net)\n",
    "# net = tf.keras.layers.Dense(units=3, activation='softmax')(net)\n",
    "# model3 = tf.keras.models.Model(input, net)"
   ]
  },
  {
   "cell_type": "code",
   "execution_count": 11,
   "metadata": {},
   "outputs": [
    {
     "name": "stderr",
     "output_type": "stream",
     "text": [
      "Using TensorFlow backend.\n"
     ]
    },
    {
     "name": "stdout",
     "output_type": "stream",
     "text": [
      "Model: \"sequential_1\"\n",
      "_________________________________________________________________\n",
      "Layer (type)                 Output Shape              Param #   \n",
      "=================================================================\n",
      "dense_1 (Dense)              (None, 64)                640       \n",
      "_________________________________________________________________\n",
      "dense_2 (Dense)              (None, 64)                4160      \n",
      "_________________________________________________________________\n",
      "dense_3 (Dense)              (None, 4)                 260       \n",
      "=================================================================\n",
      "Total params: 5,060\n",
      "Trainable params: 5,060\n",
      "Non-trainable params: 0\n",
      "_________________________________________________________________\n"
     ]
    }
   ],
   "source": [
    "from keras.models import Sequential\n",
    "from keras.layers import Dense\n",
    "from keras.optimizers import Adam\n",
    "\n",
    "model = Sequential()\n",
    "\n",
    "model.add(Dense(64,input_shape=(9,),activation='relu'))\n",
    "model.add(Dense(64,activation='relu'))\n",
    "model.add(Dense(4,activation='softmax'))\n",
    "\n",
    "model.compile(loss='categorical_crossentropy', \n",
    "              optimizer='Adam', \n",
    "              metrics=['accuracy'])\n",
    "\n",
    "model.summary()"
   ]
  },
  {
   "cell_type": "code",
   "execution_count": 49,
   "metadata": {},
   "outputs": [
    {
     "name": "stdout",
     "output_type": "stream",
     "text": [
      "Train on 1769 samples, validate on 759 samples\n",
      "Epoch 1/5\n",
      "1769/1769 [==============================] - 0s 109us/step - loss: 9.1243e-08 - accuracy: 1.0000 - val_loss: 8.6862e-07 - val_accuracy: 1.0000\n",
      "Epoch 2/5\n",
      "1769/1769 [==============================] - 0s 97us/step - loss: 8.9289e-08 - accuracy: 1.0000 - val_loss: 8.7725e-07 - val_accuracy: 1.0000\n",
      "Epoch 3/5\n",
      "1769/1769 [==============================] - 0s 176us/step - loss: 8.6122e-08 - accuracy: 1.0000 - val_loss: 8.4977e-07 - val_accuracy: 1.0000\n",
      "Epoch 4/5\n",
      "1769/1769 [==============================] - 0s 121us/step - loss: 8.3359e-08 - accuracy: 1.0000 - val_loss: 8.4505e-07 - val_accuracy: 1.0000\n",
      "Epoch 5/5\n",
      "1769/1769 [==============================] - 0s 105us/step - loss: 7.9585e-08 - accuracy: 1.0000 - val_loss: 8.5399e-07 - val_accuracy: 1.0000\n"
     ]
    }
   ],
   "source": [
    "hist = model.fit(x_train, y_train, validation_data=(x_test, y_test), epochs=50)"
   ]
  },
  {
   "cell_type": "code",
   "execution_count": 32,
   "metadata": {},
   "outputs": [
    {
     "data": {
      "text/plain": [
       "dict_keys(['val_loss', 'val_accuracy', 'loss', 'accuracy'])"
      ]
     },
     "execution_count": 32,
     "metadata": {},
     "output_type": "execute_result"
    }
   ],
   "source": [
    "hist.history.keys()"
   ]
  },
  {
   "cell_type": "code",
   "execution_count": 50,
   "metadata": {},
   "outputs": [
    {
     "data": {
      "image/png": "[encoded data removed]",
      "text/plain": [
       "<Figure size 864x576 with 1 Axes>"
      ]
     },
     "metadata": {
      "needs_background": "light"
     },
     "output_type": "display_data"
    }
   ],
   "source": [
    "import matplotlib.pyplot as plt\n",
    "%matplotlib inline\n",
    "\n",
    "plt.figure(figsize=(12,8))\n",
    "plt.plot(hist.history['loss'])\n",
    "plt.plot(hist.history['val_loss'])\n",
    "\n",
    "plt.legend(['loss','val_loss'])\n",
    "plt.grid()\n",
    "plt.show()"
   ]
  },
  {
   "cell_type": "code",
   "execution_count": 51,
   "metadata": {},
   "outputs": [
    {
     "data": {
      "image/png": "[encoded data removed]",
      "text/plain": [
       "<Figure size 864x576 with 1 Axes>"
      ]
     },
     "metadata": {
      "needs_background": "light"
     },
     "output_type": "display_data"
    }
   ],
   "source": [
    "import matplotlib.pyplot as plt\n",
    "%matplotlib inline\n",
    "\n",
    "plt.figure(figsize=(12,8))\n",
    "\n",
    "plt.plot(hist.history['accuracy'])\n",
    "plt.plot(hist.history['val_accuracy'])\n",
    "plt.legend(['accuracy','val_accuracy'])\n",
    "plt.grid()\n",
    "plt.show()"
   ]
  },
  {
   "cell_type": "code",
   "execution_count": 14,
   "metadata": {},
   "outputs": [
    {
     "name": "stdout",
     "output_type": "stream",
     "text": [
      "759/759 [==============================] - 0s 40us/step\n",
      "Accuracy = 1.00\n"
     ]
    }
   ],
   "source": [
    "loss, accuracy = model.evaluate(x_test, y_test)\n",
    "print(\"Accuracy = {:.2f}\".format(accuracy))"
   ]
  },
  {
   "cell_type": "code",
   "execution_count": 15,
   "metadata": {},
   "outputs": [
    {
     "name": "stdout",
     "output_type": "stream",
     "text": [
      "              precision    recall  f1-score   support\n",
      "\n",
      "           0       1.00      1.00      1.00       166\n",
      "           1       1.00      1.00      1.00       282\n",
      "           2       1.00      1.00      1.00       227\n",
      "           3       1.00      1.00      1.00        84\n",
      "\n",
      "    accuracy                           1.00       759\n",
      "   macro avg       1.00      1.00      1.00       759\n",
      "weighted avg       1.00      1.00      1.00       759\n",
      "\n",
      "[[166   0   0   0]\n",
      " [  0 282   0   0]\n",
      " [  0   0 227   0]\n",
      " [  0   0   0  84]]\n"
     ]
    }
   ],
   "source": [
    "import numpy as np\n",
    "from sklearn.metrics import classification_report,confusion_matrix\n",
    "\n",
    "y_pred = model.predict(x_test)\n",
    "y_test_class = np.argmax(y_test,axis=1)\n",
    "y_pred_class = np.argmax(y_pred,axis=1)\n",
    "\n",
    "print(classification_report(y_test_class,y_pred_class))\n",
    "print(confusion_matrix(y_test_class,y_pred_class))"
   ]
  },
  {
   "cell_type": "code",
   "execution_count": 48,
   "metadata": {},
   "outputs": [
    {
     "name": "stdout",
     "output_type": "stream",
     "text": [
      "[1.         0.         0.04225352 0.         0.125      0.\n",
      " 0.         0.125      0.75      ]\n",
      "   CustomerID  Gender  Married  Age  Graduated  Profession  WorkExperience  \\\n",
      "0      458989       0      1.0   36        1.0         0.0             0.0   \n",
      "1      458994       1      1.0   37        1.0         1.0             8.0   \n",
      "2      458996       0      1.0   69        0.0         0.0             0.0   \n",
      "3      459000       1      1.0   59        0.0         2.0            11.0   \n",
      "4      459001       0      0.0   19        0.0         3.0             1.0   \n",
      "\n",
      "   SpendingScore  FamilySize  VehicleModel VehicleType  \n",
      "0              0         1.0             0     Compact  \n",
      "1              1         4.0             1     Midsize  \n",
      "2              0         1.0             1     Midsize  \n",
      "3              2         2.0             2       Large  \n",
      "4              0         4.0             0     Compact  \n",
      "Predicted target name: ['Large']\n"
     ]
    }
   ],
   "source": [
    "print(x_train[0])\n",
    "print(df.head())\n",
    "\n",
    "test_set = np.array([[1, 0, 0.04225352, 0, 0.125, 0, 0 , 0.125, 0.75]])\n",
    "print(\"Predicted target name: {}\".format(\n",
    "    df[\"VehicleType\"].unique()[model.predict_classes(test_set)]))"
   ]
  },
  {
   "cell_type": "code",
   "execution_count": 17,
   "metadata": {},
   "outputs": [],
   "source": [
    "from keras.models import load_model, save_model\n",
    "import keras\n",
    "\n",
    "keras.models.save_model(model, 'VehicleModel.model', overwrite=True, include_optimizer=True)\n"
   ]
  },
  {
   "cell_type": "markdown",
   "metadata": {},
   "source": [
    "* h5 버전\n",
    "    * h5py==2.10.0"
   ]
  },
  {
   "cell_type": "code",
   "execution_count": 26,
   "metadata": {},
   "outputs": [
    {
     "name": "stdout",
     "output_type": "stream",
     "text": [
      "Large\n"
     ]
    }
   ],
   "source": [
    "model_test =keras.models.load_model('VehicleModel.model', custom_objects=None, compile=True)\n",
    "\n",
    "result = df[\"VehicleType\"].unique()[model.predict_classes(test_set)][0]\n",
    "print(result)\n"
   ]
  },
  {
   "cell_type": "code",
   "execution_count": null,
   "metadata": {},
   "outputs": [],
   "source": []
  }
 ],
 "metadata": {
  "interpreter": {
   "hash": "fc836340034460e9c5583b996b053fe1fe7ffeb52054821d3ff9d502e04de020"
  },
  "kernelspec": {
   "display_name": "woodeemkn",
   "language": "python",
   "name": "python3"
  },
  "language_info": {
   "codemirror_mode": {
    "name": "ipython",
    "version": 3
   },
   "file_extension": ".py",
   "mimetype": "text/x-python",
   "name": "python",
   "nbconvert_exporter": "python",
   "pygments_lexer": "ipython3",
   "version": "3.7.11"
  },
  "orig_nbformat": 4
 },
 "nbformat": 4,
 "nbformat_minor": 2
}
