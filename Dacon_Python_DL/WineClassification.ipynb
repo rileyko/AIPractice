{
 "cells": [
  {
   "cell_type": "markdown",
   "metadata": {},
   "source": [
    "# 와인 분류 실습 (EDA ~ 하이퍼파라미터 튜닝)"
   ]
  },
  {
   "cell_type": "markdown",
   "metadata": {},
   "source": [
    "## 라이브러리 불러오기"
   ]
  },
  {
   "cell_type": "code",
   "execution_count": 28,
   "metadata": {},
   "outputs": [],
   "source": [
    "# 데이터 처리 라이브러리\n",
    "import pandas as pd\n",
    "import numpy as np\n",
    "# 시각화 라이브러리\n",
    "import matplotlib\n",
    "import matplotlib.pyplot as plt\n",
    "import seaborn as sns\n",
    "# 전처리 라이브러리\n",
    "from sklearn.preprocessing import MinMaxScaler #수치형 전처리\n",
    "from sklearn.preprocessing import OneHotEncoder #문자열 값 전처리\n",
    "# 모델링 라이브러리\n",
    "from sklearn.ensemble import RandomForestClassifier #랜덤포레스트 분류기\n",
    "# 교차검증 라이브러리\n",
    "from sklearn.model_selection import KFold, train_test_split\n",
    "from sklearn.metrics import accuracy_score \n",
    "\n",
    "# 설정 세팅\n",
    "# 인라인으로 보기 설정\n",
    "%matplotlib inline\n",
    "# 글꼴 설정\n",
    "plt.rc('font', family='AppleGothic')\n",
    "# 마이너스 기호 출력\n",
    "plt.rc('axes', unicode_minus=False)\n",
    "# 분석에 문제가 없는 경고 메세지 무시\n",
    "import warnings\n",
    "warnings.filterwarnings('ignore')\n",
    "\n",
    "\n"
   ]
  },
  {
   "cell_type": "markdown",
   "metadata": {},
   "source": [
    "## EDA"
   ]
  },
  {
   "cell_type": "code",
   "execution_count": 29,
   "metadata": {},
   "outputs": [],
   "source": [
    "# read_csv() 매서드로 train.csv, test.csv 파일을 df class 로 불러오기\n",
    "train = pd.read_csv('~/downloads/와인/train.csv')\n",
    "test = pd.read_csv('~/downloads/와인/test.csv')"
   ]
  },
  {
   "cell_type": "code",
   "execution_count": 30,
   "metadata": {},
   "outputs": [
    {
     "name": "stdout",
     "output_type": "stream",
     "text": [
      "<class 'pandas.core.frame.DataFrame'>\n",
      "RangeIndex: 5497 entries, 0 to 5496\n",
      "Data columns (total 14 columns):\n",
      " #   Column                Non-Null Count  Dtype  \n",
      "---  ------                --------------  -----  \n",
      " 0   index                 5497 non-null   int64  \n",
      " 1   quality               5497 non-null   int64  \n",
      " 2   fixed acidity         5497 non-null   float64\n",
      " 3   volatile acidity      5497 non-null   float64\n",
      " 4   citric acid           5497 non-null   float64\n",
      " 5   residual sugar        5497 non-null   float64\n",
      " 6   chlorides             5497 non-null   float64\n",
      " 7   free sulfur dioxide   5497 non-null   float64\n",
      " 8   total sulfur dioxide  5497 non-null   float64\n",
      " 9   density               5497 non-null   float64\n",
      " 10  pH                    5497 non-null   float64\n",
      " 11  sulphates             5497 non-null   float64\n",
      " 12  alcohol               5497 non-null   float64\n",
      " 13  type                  5497 non-null   object \n",
      "dtypes: float64(11), int64(2), object(1)\n",
      "memory usage: 601.4+ KB\n",
      "None\n",
      "<class 'pandas.core.frame.DataFrame'>\n",
      "RangeIndex: 1000 entries, 0 to 999\n",
      "Data columns (total 13 columns):\n",
      " #   Column                Non-Null Count  Dtype  \n",
      "---  ------                --------------  -----  \n",
      " 0   index                 1000 non-null   int64  \n",
      " 1   fixed acidity         1000 non-null   float64\n",
      " 2   volatile acidity      1000 non-null   float64\n",
      " 3   citric acid           1000 non-null   float64\n",
      " 4   residual sugar        1000 non-null   float64\n",
      " 5   chlorides             1000 non-null   float64\n",
      " 6   free sulfur dioxide   1000 non-null   float64\n",
      " 7   total sulfur dioxide  1000 non-null   float64\n",
      " 8   density               1000 non-null   float64\n",
      " 9   pH                    1000 non-null   float64\n",
      " 10  sulphates             1000 non-null   float64\n",
      " 11  alcohol               1000 non-null   float64\n",
      " 12  type                  1000 non-null   object \n",
      "dtypes: float64(11), int64(1), object(1)\n",
      "memory usage: 101.7+ KB\n",
      "None\n"
     ]
    }
   ],
   "source": [
    "# 데이터 정보확인하기\n",
    "print(train.info()) #14개 행\n",
    "print(test.info()) #13개 행 (레이블 제외했으니까 !)"
   ]
  },
  {
   "cell_type": "code",
   "execution_count": 31,
   "metadata": {},
   "outputs": [
    {
     "name": "stdout",
     "output_type": "stream",
     "text": [
      "학습용 데이터 : (5497, 14)\n",
      "예측용 데이터 : (1000, 13)\n"
     ]
    }
   ],
   "source": [
    "# 행렬 개수 파악\n",
    "print('학습용 데이터 :', train.shape) #모델을 훈련시키는 용도\n",
    "print('예측용 데이터 :', test.shape) #모델의 최종 성능을 평가하는 용도"
   ]
  },
  {
   "cell_type": "code",
   "execution_count": 32,
   "metadata": {},
   "outputs": [
    {
     "name": "stdout",
     "output_type": "stream",
     "text": [
      "   index  quality  fixed acidity  volatile acidity  citric acid  \\\n",
      "0      0        5            5.6             0.695         0.06   \n",
      "1      1        5            8.8             0.610         0.14   \n",
      "2      2        5            7.9             0.210         0.39   \n",
      "3      3        6            7.0             0.210         0.31   \n",
      "4      4        6            7.8             0.400         0.26   \n",
      "\n",
      "   residual sugar  chlorides  free sulfur dioxide  total sulfur dioxide  \\\n",
      "0             6.8      0.042                  9.0                  84.0   \n",
      "1             2.4      0.067                 10.0                  42.0   \n",
      "2             2.0      0.057                 21.0                 138.0   \n",
      "3             6.0      0.046                 29.0                 108.0   \n",
      "4             9.5      0.059                 32.0                 178.0   \n",
      "\n",
      "   density    pH  sulphates  alcohol   type  \n",
      "0  0.99432  3.44       0.44     10.2  white  \n",
      "1  0.99690  3.19       0.59      9.5    red  \n",
      "2  0.99176  3.05       0.52     10.9  white  \n",
      "3  0.99390  3.26       0.50     10.8  white  \n",
      "4  0.99550  3.04       0.43     10.9  white  \n",
      "   index  fixed acidity  volatile acidity  citric acid  residual sugar  \\\n",
      "0      0            9.0              0.31         0.48             6.6   \n",
      "1      1           13.3              0.43         0.58             1.9   \n",
      "2      2            6.5              0.28         0.27             5.2   \n",
      "3      3            7.2              0.15         0.39             1.8   \n",
      "4      4            6.8              0.26         0.26             2.0   \n",
      "\n",
      "   chlorides  free sulfur dioxide  total sulfur dioxide  density    pH  \\\n",
      "0      0.043                 11.0                  73.0  0.99380  2.90   \n",
      "1      0.070                 15.0                  40.0  1.00040  3.06   \n",
      "2      0.040                 44.0                 179.0  0.99480  3.19   \n",
      "3      0.043                 21.0                 159.0  0.99480  3.52   \n",
      "4      0.019                 23.5                  72.0  0.99041  3.16   \n",
      "\n",
      "   sulphates  alcohol   type  \n",
      "0       0.38     11.6  white  \n",
      "1       0.49      9.0    red  \n",
      "2       0.69      9.4  white  \n",
      "3       0.47     10.0  white  \n",
      "4       0.47     11.8  white  \n"
     ]
    }
   ],
   "source": [
    "# 상위 5개 행 확인하기\n",
    "print(train.head())\n",
    "print(test.head())"
   ]
  },
  {
   "cell_type": "code",
   "execution_count": 33,
   "metadata": {},
   "outputs": [
    {
     "name": "stdout",
     "output_type": "stream",
     "text": [
      "index                   0\n",
      "quality                 0\n",
      "fixed acidity           0\n",
      "volatile acidity        0\n",
      "citric acid             0\n",
      "residual sugar          0\n",
      "chlorides               0\n",
      "free sulfur dioxide     0\n",
      "total sulfur dioxide    0\n",
      "density                 0\n",
      "pH                      0\n",
      "sulphates               0\n",
      "alcohol                 0\n",
      "type                    0\n",
      "dtype: int64\n",
      "index                   0\n",
      "fixed acidity           0\n",
      "volatile acidity        0\n",
      "citric acid             0\n",
      "residual sugar          0\n",
      "chlorides               0\n",
      "free sulfur dioxide     0\n",
      "total sulfur dioxide    0\n",
      "density                 0\n",
      "pH                      0\n",
      "sulphates               0\n",
      "alcohol                 0\n",
      "type                    0\n",
      "dtype: int64\n"
     ]
    }
   ],
   "source": [
    "# 결측치 여부 확인\n",
    "print(train.isnull().sum())\n",
    "print(test.isnull().sum())"
   ]
  },
  {
   "cell_type": "code",
   "execution_count": 34,
   "metadata": {},
   "outputs": [],
   "source": [
    "# 학습용 데이터 복사본 생성\n",
    "traindata = train.copy()"
   ]
  },
  {
   "cell_type": "code",
   "execution_count": 35,
   "metadata": {},
   "outputs": [
    {
     "data": {
      "image/png": "[encoded data removed]",
      "text/plain": [
       "<Figure size 360x360 with 1 Axes>"
      ]
     },
     "metadata": {
      "needs_background": "light"
     },
     "output_type": "display_data"
    }
   ],
   "source": [
    "# 타깃 변수(와인 품질) 분포 시각화\n",
    "#1 seaborn 의 displot() 으로 어느 변수를 시각화할지 옵션에 지정해주세요.\n",
    "sns.displot(traindata['quality'], kde=False, bins=10)\n",
    "#2 matplot 의 axis() 로 각 축의 최소, 최대 값을 지정해주세요.\n",
    "plt.axis([0,10,0,2500])\n",
    "#3 matplot 의 title() 로 그래프의 제목을 지정해주세요.\n",
    "plt.title(\"와인 품질\")\n",
    "#4 matplot 의 show() 로 그래프를 출력해주세요.\n",
    "plt.show()"
   ]
  },
  {
   "cell_type": "code",
   "execution_count": 36,
   "metadata": {},
   "outputs": [
    {
     "data": {
      "image/png": "[encoded data removed]",
      "text/plain": [
       "<Figure size 432x288 with 1 Axes>"
      ]
     },
     "metadata": {
      "needs_background": "light"
     },
     "output_type": "display_data"
    }
   ],
   "source": [
    "# x축 지점의 값들로 정할 리스트를 생성합니다.\n",
    "x_values = [0,1,2,3,4]\n",
    "# y축 지점의 값들로 정할 리스트를 생성합니다.\n",
    "y_values = [0,1,4,9,16]\n",
    "# plot() 매서드를 활용해 그래프를 그린 후 화면에 보여줍니다.\n",
    "plt.plot(x_values, y_values)\n",
    "plt.show()"
   ]
  },
  {
   "cell_type": "code",
   "execution_count": 37,
   "metadata": {},
   "outputs": [
    {
     "data": {
      "image/png": "[encoded data removed]",
      "text/plain": [
       "<Figure size 432x288 with 1 Axes>"
      ]
     },
     "metadata": {
      "needs_background": "light"
     },
     "output_type": "display_data"
    }
   ],
   "source": [
    "# 변수 분포를 갖는 리스트를 생성합니다.\n",
    "a = [1,2,3,3,3,4,4,4,4,5,5,5,5,5,6,6,7]\n",
    "# plot() 매서드를 활용해 그래프를 그린 후 화면에 보여줍니다.\n",
    "plt.hist(a)\n",
    "plt.show()"
   ]
  },
  {
   "cell_type": "markdown",
   "metadata": {},
   "source": [
    "## 전처리"
   ]
  },
  {
   "cell_type": "code",
   "execution_count": 38,
   "metadata": {},
   "outputs": [
    {
     "data": {
      "text/plain": [
       "<AxesSubplot:>"
      ]
     },
     "execution_count": 38,
     "metadata": {},
     "output_type": "execute_result"
    },
    {
     "data": {
      "image/png": "[encoded data removed]",
      "text/plain": [
       "<Figure size 432x288 with 1 Axes>"
      ]
     },
     "metadata": {
      "needs_background": "light"
     },
     "output_type": "display_data"
    }
   ],
   "source": [
    "# boxplot() 매서드로 'fixed acidity' 피쳐의 이상치를 확인하는 코드를 아래에 작성하세요.\n",
    "sns.boxplot(data=train['fixed acidity'])"
   ]
  },
  {
   "cell_type": "code",
   "execution_count": 39,
   "metadata": {},
   "outputs": [
    {
     "name": "stdout",
     "output_type": "stream",
     "text": [
      "IQR범위로 생성된 데이터 : (5203, 14)\n",
      "이상치 개수 :  294\n"
     ]
    }
   ],
   "source": [
    "# \"fixed acidity\"가 25%인 값을 \"quantile_25\" 라는 변수에 만들어 주세요\n",
    "quantile_25 = np.quantile(train['fixed acidity'], 0.25)\n",
    "\n",
    "# \"fixed acidity\"가 75%인 값을 \"quantile_75\" 라는 변수에 만들어 주세요\n",
    "quantile_75 = np.quantile(train['fixed acidity'],0.75)\n",
    "\n",
    "# quantile_75와 quantile_25의 차이를 \"IQR\"이라는 변수에 만들어 주세요\n",
    "IQR = quantile_75 - quantile_25\n",
    "\n",
    "# quantile_25보다 1.5 * IQR 작은 값을 \"minimum\"이라는 변수에 만들어 주세요\n",
    "minimum = quantile_25 - 1.5 * IQR\n",
    "\n",
    "# quantile_75보다 1.5 * IQR 큰 값을 \"maximum\"이라는 변수에 만들어 주세요\n",
    "maximum = quantile_75 + 1.5 * IQR\n",
    "\n",
    "# \"fixed acidity\"가 minimum보다 크고, maximum보다 작은 값들만 \"train2\"에 저장해 주세요\n",
    "train2 = train[(minimum <= train['fixed acidity']) & (train['fixed acidity'] <= maximum)]\n",
    "\n",
    "# train2.shape를 통해서, 총 몇개의 행이 되었는지 확인해보세요.\n",
    "print(\"IQR범위로 생성된 데이터 :\", train2.shape)\n",
    "\n",
    "# 이상치 개수 변화 확인\n",
    "print(\"이상치 개수 : \", train.shape[0] - train2.shape[0])"
   ]
  },
  {
   "cell_type": "code",
   "execution_count": 40,
   "metadata": {},
   "outputs": [
    {
     "data": {
      "text/html": [
       "<div>\n",
       "<style scoped>\n",
       "    .dataframe tbody tr th:only-of-type {\n",
       "        vertical-align: middle;\n",
       "    }\n",
       "\n",
       "    .dataframe tbody tr th {\n",
       "        vertical-align: top;\n",
       "    }\n",
       "\n",
       "    .dataframe thead th {\n",
       "        text-align: right;\n",
       "    }\n",
       "</style>\n",
       "<table border=\"1\" class=\"dataframe\">\n",
       "  <thead>\n",
       "    <tr style=\"text-align: right;\">\n",
       "      <th></th>\n",
       "      <th>index</th>\n",
       "      <th>quality</th>\n",
       "      <th>fixed acidity</th>\n",
       "      <th>volatile acidity</th>\n",
       "      <th>citric acid</th>\n",
       "      <th>residual sugar</th>\n",
       "      <th>chlorides</th>\n",
       "      <th>free sulfur dioxide</th>\n",
       "      <th>total sulfur dioxide</th>\n",
       "      <th>density</th>\n",
       "      <th>pH</th>\n",
       "      <th>sulphates</th>\n",
       "      <th>alcohol</th>\n",
       "    </tr>\n",
       "  </thead>\n",
       "  <tbody>\n",
       "    <tr>\n",
       "      <th>count</th>\n",
       "      <td>5497.000000</td>\n",
       "      <td>5497.000000</td>\n",
       "      <td>5497.000000</td>\n",
       "      <td>5497.000000</td>\n",
       "      <td>5497.000000</td>\n",
       "      <td>5497.000000</td>\n",
       "      <td>5497.000000</td>\n",
       "      <td>5497.000000</td>\n",
       "      <td>5497.000000</td>\n",
       "      <td>5497.000000</td>\n",
       "      <td>5497.000000</td>\n",
       "      <td>5497.000000</td>\n",
       "      <td>5497.000000</td>\n",
       "    </tr>\n",
       "    <tr>\n",
       "      <th>mean</th>\n",
       "      <td>2748.000000</td>\n",
       "      <td>5.818992</td>\n",
       "      <td>7.210115</td>\n",
       "      <td>0.338163</td>\n",
       "      <td>0.318543</td>\n",
       "      <td>5.438075</td>\n",
       "      <td>0.055808</td>\n",
       "      <td>30.417682</td>\n",
       "      <td>115.566491</td>\n",
       "      <td>0.994673</td>\n",
       "      <td>3.219502</td>\n",
       "      <td>0.530524</td>\n",
       "      <td>10.504918</td>\n",
       "    </tr>\n",
       "    <tr>\n",
       "      <th>std</th>\n",
       "      <td>1586.991546</td>\n",
       "      <td>0.870311</td>\n",
       "      <td>1.287579</td>\n",
       "      <td>0.163224</td>\n",
       "      <td>0.145104</td>\n",
       "      <td>4.756676</td>\n",
       "      <td>0.034653</td>\n",
       "      <td>17.673881</td>\n",
       "      <td>56.288223</td>\n",
       "      <td>0.003014</td>\n",
       "      <td>0.160713</td>\n",
       "      <td>0.149396</td>\n",
       "      <td>1.194524</td>\n",
       "    </tr>\n",
       "    <tr>\n",
       "      <th>min</th>\n",
       "      <td>0.000000</td>\n",
       "      <td>3.000000</td>\n",
       "      <td>3.800000</td>\n",
       "      <td>0.080000</td>\n",
       "      <td>0.000000</td>\n",
       "      <td>0.600000</td>\n",
       "      <td>0.009000</td>\n",
       "      <td>1.000000</td>\n",
       "      <td>6.000000</td>\n",
       "      <td>0.987110</td>\n",
       "      <td>2.740000</td>\n",
       "      <td>0.220000</td>\n",
       "      <td>8.000000</td>\n",
       "    </tr>\n",
       "    <tr>\n",
       "      <th>25%</th>\n",
       "      <td>1374.000000</td>\n",
       "      <td>5.000000</td>\n",
       "      <td>6.400000</td>\n",
       "      <td>0.230000</td>\n",
       "      <td>0.250000</td>\n",
       "      <td>1.800000</td>\n",
       "      <td>0.038000</td>\n",
       "      <td>17.000000</td>\n",
       "      <td>78.000000</td>\n",
       "      <td>0.992300</td>\n",
       "      <td>3.110000</td>\n",
       "      <td>0.430000</td>\n",
       "      <td>9.500000</td>\n",
       "    </tr>\n",
       "    <tr>\n",
       "      <th>50%</th>\n",
       "      <td>2748.000000</td>\n",
       "      <td>6.000000</td>\n",
       "      <td>7.000000</td>\n",
       "      <td>0.290000</td>\n",
       "      <td>0.310000</td>\n",
       "      <td>3.000000</td>\n",
       "      <td>0.047000</td>\n",
       "      <td>29.000000</td>\n",
       "      <td>118.000000</td>\n",
       "      <td>0.994800</td>\n",
       "      <td>3.210000</td>\n",
       "      <td>0.510000</td>\n",
       "      <td>10.300000</td>\n",
       "    </tr>\n",
       "    <tr>\n",
       "      <th>75%</th>\n",
       "      <td>4122.000000</td>\n",
       "      <td>6.000000</td>\n",
       "      <td>7.700000</td>\n",
       "      <td>0.400000</td>\n",
       "      <td>0.390000</td>\n",
       "      <td>8.100000</td>\n",
       "      <td>0.064000</td>\n",
       "      <td>41.000000</td>\n",
       "      <td>155.000000</td>\n",
       "      <td>0.996930</td>\n",
       "      <td>3.320000</td>\n",
       "      <td>0.600000</td>\n",
       "      <td>11.300000</td>\n",
       "    </tr>\n",
       "    <tr>\n",
       "      <th>max</th>\n",
       "      <td>5496.000000</td>\n",
       "      <td>9.000000</td>\n",
       "      <td>15.900000</td>\n",
       "      <td>1.580000</td>\n",
       "      <td>1.660000</td>\n",
       "      <td>65.800000</td>\n",
       "      <td>0.610000</td>\n",
       "      <td>289.000000</td>\n",
       "      <td>440.000000</td>\n",
       "      <td>1.038980</td>\n",
       "      <td>4.010000</td>\n",
       "      <td>2.000000</td>\n",
       "      <td>14.900000</td>\n",
       "    </tr>\n",
       "  </tbody>\n",
       "</table>\n",
       "</div>"
      ],
      "text/plain": [
       "             index      quality  fixed acidity  volatile acidity  citric acid  \\\n",
       "count  5497.000000  5497.000000    5497.000000       5497.000000  5497.000000   \n",
       "mean   2748.000000     5.818992       7.210115          0.338163     0.318543   \n",
       "std    1586.991546     0.870311       1.287579          0.163224     0.145104   \n",
       "min       0.000000     3.000000       3.800000          0.080000     0.000000   \n",
       "25%    1374.000000     5.000000       6.400000          0.230000     0.250000   \n",
       "50%    2748.000000     6.000000       7.000000          0.290000     0.310000   \n",
       "75%    4122.000000     6.000000       7.700000          0.400000     0.390000   \n",
       "max    5496.000000     9.000000      15.900000          1.580000     1.660000   \n",
       "\n",
       "       residual sugar    chlorides  free sulfur dioxide  total sulfur dioxide  \\\n",
       "count     5497.000000  5497.000000          5497.000000           5497.000000   \n",
       "mean         5.438075     0.055808            30.417682            115.566491   \n",
       "std          4.756676     0.034653            17.673881             56.288223   \n",
       "min          0.600000     0.009000             1.000000              6.000000   \n",
       "25%          1.800000     0.038000            17.000000             78.000000   \n",
       "50%          3.000000     0.047000            29.000000            118.000000   \n",
       "75%          8.100000     0.064000            41.000000            155.000000   \n",
       "max         65.800000     0.610000           289.000000            440.000000   \n",
       "\n",
       "           density           pH    sulphates      alcohol  \n",
       "count  5497.000000  5497.000000  5497.000000  5497.000000  \n",
       "mean      0.994673     3.219502     0.530524    10.504918  \n",
       "std       0.003014     0.160713     0.149396     1.194524  \n",
       "min       0.987110     2.740000     0.220000     8.000000  \n",
       "25%       0.992300     3.110000     0.430000     9.500000  \n",
       "50%       0.994800     3.210000     0.510000    10.300000  \n",
       "75%       0.996930     3.320000     0.600000    11.300000  \n",
       "max       1.038980     4.010000     2.000000    14.900000  "
      ]
     },
     "execution_count": 40,
     "metadata": {},
     "output_type": "execute_result"
    }
   ],
   "source": [
    "# describe를 통해 \"fixed acidity\"의 데이터의 분포가 어떻게 생겼는지 짐작해보세요\n",
    "train.describe()"
   ]
  },
  {
   "cell_type": "code",
   "execution_count": 41,
   "metadata": {},
   "outputs": [
    {
     "data": {
      "text/plain": [
       "<AxesSubplot:xlabel='fixed acidity', ylabel='Density'>"
      ]
     },
     "execution_count": 41,
     "metadata": {},
     "output_type": "execute_result"
    },
    {
     "data": {
      "image/png": "[encoded data removed]",
      "text/plain": [
       "<Figure size 432x288 with 1 Axes>"
      ]
     },
     "metadata": {
      "needs_background": "light"
     },
     "output_type": "display_data"
    }
   ],
   "source": [
    "# seaborn의 displot을 통해 \"fixed acidity\"의 distplot을 그려보세요.\n",
    "sns.distplot(train['fixed acidity'])"
   ]
  },
  {
   "cell_type": "code",
   "execution_count": 42,
   "metadata": {},
   "outputs": [
    {
     "data": {
      "text/plain": [
       "<AxesSubplot:xlabel='Scaled fixed acidity', ylabel='Density'>"
      ]
     },
     "execution_count": 42,
     "metadata": {},
     "output_type": "execute_result"
    },
    {
     "data": {
      "image/png": "[encoded data removed]",
      "text/plain": [
       "<Figure size 432x288 with 1 Axes>"
      ]
     },
     "metadata": {
      "needs_background": "light"
     },
     "output_type": "display_data"
    }
   ],
   "source": [
    "# MinMaxScaler를 \"scaler\"라는 변수에 지정해주세요.\n",
    "scaler = MinMaxScaler()\n",
    "\n",
    "# \"scaler\"를 학습시켜주세요.\n",
    "scaler.fit(train[['fixed acidity']])\n",
    "\n",
    "# \"scaler\"를 통해 train과 test의 \"fixed acidity\"를 바꾸어 \"Scaled fixed acidity\"라는 column에 저장해주세요.\n",
    "train['Scaled fixed acidity'] = scaler.transform(train[['fixed acidity']])\n",
    "test['Scaled fixed acidity'] = scaler.transform(test[['fixed acidity']])\n",
    "\n",
    "# seaborn의 displot을 통해 \"Scaled fixed acidity\"의 distplot을 그려보세요\n",
    "sns.distplot(train['Scaled fixed acidity'])"
   ]
  },
  {
   "cell_type": "code",
   "execution_count": 43,
   "metadata": {},
   "outputs": [
    {
     "name": "stdout",
     "output_type": "stream",
     "text": [
      "  (0, 1)\t1.0\n",
      "  (1, 0)\t1.0\n",
      "  (2, 1)\t1.0\n",
      "  (3, 1)\t1.0\n",
      "  (4, 1)\t1.0\n",
      "  (5, 1)\t1.0\n",
      "  (6, 1)\t1.0\n",
      "  (7, 1)\t1.0\n",
      "  (8, 1)\t1.0\n",
      "  (9, 1)\t1.0\n",
      "  (10, 0)\t1.0\n",
      "  (11, 1)\t1.0\n",
      "  (12, 1)\t1.0\n",
      "  (13, 1)\t1.0\n",
      "  (14, 0)\t1.0\n",
      "  (15, 1)\t1.0\n",
      "  (16, 0)\t1.0\n",
      "  (17, 1)\t1.0\n",
      "  (18, 1)\t1.0\n",
      "  (19, 1)\t1.0\n",
      "  (20, 1)\t1.0\n",
      "  (21, 0)\t1.0\n",
      "  (22, 1)\t1.0\n",
      "  (23, 0)\t1.0\n",
      "  (24, 0)\t1.0\n",
      "  :\t:\n",
      "  (5472, 0)\t1.0\n",
      "  (5473, 1)\t1.0\n",
      "  (5474, 1)\t1.0\n",
      "  (5475, 1)\t1.0\n",
      "  (5476, 1)\t1.0\n",
      "  (5477, 1)\t1.0\n",
      "  (5478, 1)\t1.0\n",
      "  (5479, 0)\t1.0\n",
      "  (5480, 1)\t1.0\n",
      "  (5481, 0)\t1.0\n",
      "  (5482, 1)\t1.0\n",
      "  (5483, 0)\t1.0\n",
      "  (5484, 1)\t1.0\n",
      "  (5485, 1)\t1.0\n",
      "  (5486, 1)\t1.0\n",
      "  (5487, 0)\t1.0\n",
      "  (5488, 1)\t1.0\n",
      "  (5489, 1)\t1.0\n",
      "  (5490, 0)\t1.0\n",
      "  (5491, 1)\t1.0\n",
      "  (5492, 1)\t1.0\n",
      "  (5493, 1)\t1.0\n",
      "  (5494, 1)\t1.0\n",
      "  (5495, 1)\t1.0\n",
      "  (5496, 1)\t1.0\n"
     ]
    }
   ],
   "source": [
    "# \"OneHotEncoder\"를 \"encoder\"라는 변수에 저장해보세요.\n",
    "encoder = OneHotEncoder()\n",
    "\n",
    "# \"encoder\"를 사용해 train의 \"type\" 피쳐를 학습시켜보세요.\n",
    "encoder.fit(train[['type']])\n",
    "\n",
    "# \"encoder\"를 사용해 train의 \"type\"피쳐를 변환해 \"onehot\"이라는 변수에, test의 \"type\"피쳐를 변환해 \"onehot2\"라는 변수에 저장해보세요.\n",
    "onehot = encoder.transform(train[['type']])\n",
    "onehot2 = encoder.transform(test[['type']])\n",
    "print(onehot)"
   ]
  },
  {
   "cell_type": "code",
   "execution_count": 44,
   "metadata": {},
   "outputs": [
    {
     "name": "stdout",
     "output_type": "stream",
     "text": [
      "[[0. 1.]\n",
      " [1. 0.]\n",
      " [0. 1.]\n",
      " ...\n",
      " [0. 1.]\n",
      " [0. 1.]\n",
      " [0. 1.]]\n",
      "     0    1\n",
      "0  0.0  1.0\n",
      "1  1.0  0.0\n",
      "2  0.0  1.0\n",
      "3  0.0  1.0\n",
      "4  0.0  1.0\n"
     ]
    }
   ],
   "source": [
    "# \"onehot\", \"onehot2\" 라는 변수를 array 형태로 변환해 보세요.\n",
    "onehot = onehot.toarray()\n",
    "onehot2 = onehot2.toarray()\n",
    "print(onehot)\n",
    "\n",
    "# \"onehot\",\"onethot2\"라는 변수를 DataFrame 형태로 변환해 보세요\n",
    "onehot = pd.DataFrame(onehot)\n",
    "onehot2 = pd.DataFrame(onehot2)\n",
    "print(onehot.head())"
   ]
  },
  {
   "cell_type": "code",
   "execution_count": 45,
   "metadata": {},
   "outputs": [
    {
     "data": {
      "text/html": [
       "<div>\n",
       "<style scoped>\n",
       "    .dataframe tbody tr th:only-of-type {\n",
       "        vertical-align: middle;\n",
       "    }\n",
       "\n",
       "    .dataframe tbody tr th {\n",
       "        vertical-align: top;\n",
       "    }\n",
       "\n",
       "    .dataframe thead th {\n",
       "        text-align: right;\n",
       "    }\n",
       "</style>\n",
       "<table border=\"1\" class=\"dataframe\">\n",
       "  <thead>\n",
       "    <tr style=\"text-align: right;\">\n",
       "      <th></th>\n",
       "      <th>index</th>\n",
       "      <th>quality</th>\n",
       "      <th>fixed acidity</th>\n",
       "      <th>volatile acidity</th>\n",
       "      <th>citric acid</th>\n",
       "      <th>residual sugar</th>\n",
       "      <th>chlorides</th>\n",
       "      <th>free sulfur dioxide</th>\n",
       "      <th>total sulfur dioxide</th>\n",
       "      <th>density</th>\n",
       "      <th>pH</th>\n",
       "      <th>sulphates</th>\n",
       "      <th>alcohol</th>\n",
       "      <th>Scaled fixed acidity</th>\n",
       "    </tr>\n",
       "  </thead>\n",
       "  <tbody>\n",
       "    <tr>\n",
       "      <th>0</th>\n",
       "      <td>0</td>\n",
       "      <td>5</td>\n",
       "      <td>5.6</td>\n",
       "      <td>0.695</td>\n",
       "      <td>0.06</td>\n",
       "      <td>6.8</td>\n",
       "      <td>0.042</td>\n",
       "      <td>9.0</td>\n",
       "      <td>84.0</td>\n",
       "      <td>0.99432</td>\n",
       "      <td>3.44</td>\n",
       "      <td>0.44</td>\n",
       "      <td>10.2</td>\n",
       "      <td>0.148760</td>\n",
       "    </tr>\n",
       "    <tr>\n",
       "      <th>1</th>\n",
       "      <td>1</td>\n",
       "      <td>5</td>\n",
       "      <td>8.8</td>\n",
       "      <td>0.610</td>\n",
       "      <td>0.14</td>\n",
       "      <td>2.4</td>\n",
       "      <td>0.067</td>\n",
       "      <td>10.0</td>\n",
       "      <td>42.0</td>\n",
       "      <td>0.99690</td>\n",
       "      <td>3.19</td>\n",
       "      <td>0.59</td>\n",
       "      <td>9.5</td>\n",
       "      <td>0.413223</td>\n",
       "    </tr>\n",
       "    <tr>\n",
       "      <th>2</th>\n",
       "      <td>2</td>\n",
       "      <td>5</td>\n",
       "      <td>7.9</td>\n",
       "      <td>0.210</td>\n",
       "      <td>0.39</td>\n",
       "      <td>2.0</td>\n",
       "      <td>0.057</td>\n",
       "      <td>21.0</td>\n",
       "      <td>138.0</td>\n",
       "      <td>0.99176</td>\n",
       "      <td>3.05</td>\n",
       "      <td>0.52</td>\n",
       "      <td>10.9</td>\n",
       "      <td>0.338843</td>\n",
       "    </tr>\n",
       "    <tr>\n",
       "      <th>3</th>\n",
       "      <td>3</td>\n",
       "      <td>6</td>\n",
       "      <td>7.0</td>\n",
       "      <td>0.210</td>\n",
       "      <td>0.31</td>\n",
       "      <td>6.0</td>\n",
       "      <td>0.046</td>\n",
       "      <td>29.0</td>\n",
       "      <td>108.0</td>\n",
       "      <td>0.99390</td>\n",
       "      <td>3.26</td>\n",
       "      <td>0.50</td>\n",
       "      <td>10.8</td>\n",
       "      <td>0.264463</td>\n",
       "    </tr>\n",
       "    <tr>\n",
       "      <th>4</th>\n",
       "      <td>4</td>\n",
       "      <td>6</td>\n",
       "      <td>7.8</td>\n",
       "      <td>0.400</td>\n",
       "      <td>0.26</td>\n",
       "      <td>9.5</td>\n",
       "      <td>0.059</td>\n",
       "      <td>32.0</td>\n",
       "      <td>178.0</td>\n",
       "      <td>0.99550</td>\n",
       "      <td>3.04</td>\n",
       "      <td>0.43</td>\n",
       "      <td>10.9</td>\n",
       "      <td>0.330579</td>\n",
       "    </tr>\n",
       "  </tbody>\n",
       "</table>\n",
       "</div>"
      ],
      "text/plain": [
       "   index  quality  fixed acidity  volatile acidity  citric acid  \\\n",
       "0      0        5            5.6             0.695         0.06   \n",
       "1      1        5            8.8             0.610         0.14   \n",
       "2      2        5            7.9             0.210         0.39   \n",
       "3      3        6            7.0             0.210         0.31   \n",
       "4      4        6            7.8             0.400         0.26   \n",
       "\n",
       "   residual sugar  chlorides  free sulfur dioxide  total sulfur dioxide  \\\n",
       "0             6.8      0.042                  9.0                  84.0   \n",
       "1             2.4      0.067                 10.0                  42.0   \n",
       "2             2.0      0.057                 21.0                 138.0   \n",
       "3             6.0      0.046                 29.0                 108.0   \n",
       "4             9.5      0.059                 32.0                 178.0   \n",
       "\n",
       "   density    pH  sulphates  alcohol  Scaled fixed acidity  \n",
       "0  0.99432  3.44       0.44     10.2              0.148760  \n",
       "1  0.99690  3.19       0.59      9.5              0.413223  \n",
       "2  0.99176  3.05       0.52     10.9              0.338843  \n",
       "3  0.99390  3.26       0.50     10.8              0.264463  \n",
       "4  0.99550  3.04       0.43     10.9              0.330579  "
      ]
     },
     "execution_count": 45,
     "metadata": {},
     "output_type": "execute_result"
    }
   ],
   "source": [
    "# onehot, onehot2를 원본데이터인 train,test에 병합시켜보세요.\n",
    "onehot = pd.concat([train, onehot], axis = 1)\n",
    "onehot.head()\n",
    "\n",
    "# train과 test의 \"type\" 변수를 제거해주세요.\n",
    "train = train.drop(columns = ['type'])\n",
    "test = test.drop(columns = ['type'])\n",
    "train.head()"
   ]
  },
  {
   "cell_type": "code",
   "execution_count": 46,
   "metadata": {},
   "outputs": [
    {
     "name": "stdout",
     "output_type": "stream",
     "text": [
      "   index  quality  fixed acidity  volatile acidity  citric acid  \\\n",
      "0      0        5            5.6             0.695         0.06   \n",
      "1      1        5            8.8             0.610         0.14   \n",
      "2      2        5            7.9             0.210         0.39   \n",
      "3      3        6            7.0             0.210         0.31   \n",
      "4      4        6            7.8             0.400         0.26   \n",
      "\n",
      "   residual sugar  chlorides  free sulfur dioxide  total sulfur dioxide  \\\n",
      "0             6.8      0.042                  9.0                  84.0   \n",
      "1             2.4      0.067                 10.0                  42.0   \n",
      "2             2.0      0.057                 21.0                 138.0   \n",
      "3             6.0      0.046                 29.0                 108.0   \n",
      "4             9.5      0.059                 32.0                 178.0   \n",
      "\n",
      "   density    pH  sulphates  alcohol  x0_red  x0_white  \n",
      "0  0.99432  3.44       0.44     10.2     0.0       1.0  \n",
      "1  0.99690  3.19       0.59      9.5     1.0       0.0  \n",
      "2  0.99176  3.05       0.52     10.9     0.0       1.0  \n",
      "3  0.99390  3.26       0.50     10.8     0.0       1.0  \n",
      "4  0.99550  3.04       0.43     10.9     0.0       1.0  \n"
     ]
    }
   ],
   "source": [
    "# 단순화된 코드 🤗 (데이터 불러오기 ~ 인코딩)\n",
    "\n",
    "train = pd.read_csv('~/downloads/와인/train.csv') #학습용 데이터 불러오기\n",
    "test = pd.read_csv('~/downloads/와인/test.csv') #예측용 데이터 불러오기\n",
    "\n",
    "encorder = OneHotEncoder() #원핫인코더 선언\n",
    "onehot = pd.DataFrame(encoder.fit_transform(train[['type']]).toarray(), columns = encoder.get_feature_names()) #fit_trasform() : 훈련(fit) + 변환(transform)\n",
    "onehot2 = pd.DataFrame(encoder.fit_transform(test[['type']]).toarray(), columns= encoder.get_feature_names()) # get_feature_names() : 컬럼(피쳐) 이름 리스트\n",
    "\n",
    "train = pd.concat([train, onehot], axis = 1).drop(columns= ['type']) # pd.concat([데이터프레임리스트]) : 데이터프레임을 이어붙임, axis=0(default) : 행을 이어붙임, axis=1 : 열을 이어붙임\n",
    "test = pd.concat([test, onehot2], axis = 1).drop(columns= ['type'])\n",
    "print(train.head())\n",
    "# print(test.head())"
   ]
  },
  {
   "cell_type": "markdown",
   "metadata": {},
   "source": [
    "## 모델링"
   ]
  },
  {
   "cell_type": "code",
   "execution_count": 51,
   "metadata": {},
   "outputs": [
    {
     "data": {
      "image/png": "[encoded data removed]",
      "text/plain": [
       "<Figure size 432x288 with 1 Axes>"
      ]
     },
     "metadata": {
      "needs_background": "light"
     },
     "output_type": "display_data"
    }
   ],
   "source": [
    "# 랜덤포레스트 분류 모형 불러오기\n",
    "from sklearn.ensemble import RandomForestClassifier\n",
    "\n",
    "# 분류모형 \"random_forest\" 변수에 저장하기\n",
    "random_forest = RandomForestClassifier()\n",
    "\n",
    "# \"X\"라는 변수에 train의 \"quality\" 피쳐 제거하고 저장하기\n",
    "X = train.drop(columns=['quality'])\n",
    "\n",
    "# \"y\"라는 변수에 훈련용 데이터의 \"quality\" 피쳐 저장하기\n",
    "y = train['quality']\n",
    "\n",
    "# 랜덤포레스트 분류기 모델을 x, y를 이용해 학습시키기\n",
    "random_forest.fit(X,y)\n",
    "\n",
    "# sklearn의 교차검증(KFold) 모델 불러오기\n",
    "from sklearn.model_selection import KFold\n",
    "\n",
    "# KFold에 n_splits = 5, shuffle = True, random_state = 0이라는 인자를 추가해 \"kf\"라는 변수에 저장\n",
    "kf = KFold(n_splits=5, shuffle=True, random_state=0) # n_splits = 몇번 나눌 것인지, shuffle= 섞을건지 여부, random_state = 특정 상수로 값을 고정\n",
    "\n",
    "# 반복문을 통해서 1~5번까지의 데이터에 접근해보기\n",
    "# 데이터프레임 접근 방식(loc, iloc)\n",
    "    # 데이터프레임.iloc[행 인덱싱, 열 인덱싱] : 해당 행렬 인덱스가 일치하는 값만 추출\n",
    "    # 데이터프레임.loc[행 이름, 열 이름] : 해당 행렬 이름에 일치하는 값만 추출\n",
    "for train_idx, valid_idx in kf.split(train) :\n",
    "    train_data = train.iloc[train_idx]\n",
    "    valid_data = train.iloc[valid_idx] \n",
    "\n",
    "#데이터를 스캐터 플롯으로 확인하기\n",
    "import matplotlib.pyplot as plt\n",
    "\n",
    "\n",
    "kf = KFold(n_splits = 5, shuffle = True, random_state = 0)\n",
    "train_idx_store = []\n",
    "valid_idx_store = []\n",
    "\n",
    "i = 1\n",
    "for train_idx, valid_idx in kf.split(train) :\n",
    "  plt.scatter(valid_idx, [i for x in range(len(valid_idx))], alpha = 0.1)\n",
    "  i += 1\n",
    "plt.show()\n"
   ]
  },
  {
   "cell_type": "code",
   "execution_count": null,
   "metadata": {},
   "outputs": [],
   "source": [
    "# \"X\"라는 변수에 train의 \"index\"와 \"quality\"를 제외하고 지정해 주세요\n",
    "# \"y\"라는 변수에는 \"quality\"를 지정해 주세요"
   ]
  }
 ],
 "metadata": {
  "interpreter": {
   "hash": "fc836340034460e9c5583b996b053fe1fe7ffeb52054821d3ff9d502e04de020"
  },
  "kernelspec": {
   "display_name": "Python 3.7.11 ('woodeem')",
   "language": "python",
   "name": "python3"
  },
  "language_info": {
   "codemirror_mode": {
    "name": "ipython",
    "version": 3
   },
   "file_extension": ".py",
   "mimetype": "text/x-python",
   "name": "python",
   "nbconvert_exporter": "python",
   "pygments_lexer": "ipython3",
   "version": "3.7.11"
  },
  "orig_nbformat": 4
 },
 "nbformat": 4,
 "nbformat_minor": 2
}
